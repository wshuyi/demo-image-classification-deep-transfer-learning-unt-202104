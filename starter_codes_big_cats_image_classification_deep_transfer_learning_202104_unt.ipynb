{
  "nbformat": 4,
  "nbformat_minor": 0,
  "metadata": {
    "colab": {
      "name": "starter-codes-big-cats-image-classification-deep-transfer-learning-202104-unt",
      "provenance": [],
      "collapsed_sections": [],
      "machine_shape": "hm",
      "mount_file_id": "1laoqKuDk3ATLTKuC513Ax45ke7ylMmCc",
      "authorship_tag": "ABX9TyOnrTXBAV5NbEU6xvn2+hGj",
      "include_colab_link": true
    },
    "kernelspec": {
      "name": "python3",
      "display_name": "Python 3"
    },
    "accelerator": "GPU"
  },
  "cells": [
    {
      "cell_type": "markdown",
      "metadata": {
        "id": "view-in-github",
        "colab_type": "text"
      },
      "source": [
        "<a href=\"https://colab.research.google.com/github/wshuyi/demo-image-classification-deep-transfer-learning-unt-202104/blob/main/starter_codes_big_cats_image_classification_deep_transfer_learning_202104_unt.ipynb\" target=\"_parent\"><img src=\"https://colab.research.google.com/assets/colab-badge.svg\" alt=\"Open In Colab\"/></a>"
      ]
    },
    {
      "cell_type": "code",
      "metadata": {
        "id": "xauup3Akp5le"
      },
      "source": [
        "import fastai\n",
        "fastai.__version__"
      ],
      "execution_count": null,
      "outputs": []
    },
    {
      "cell_type": "code",
      "metadata": {
        "id": "4bY26hFTAka0"
      },
      "source": [
        "!pip install -U fastai"
      ],
      "execution_count": null,
      "outputs": []
    },
    {
      "cell_type": "code",
      "metadata": {
        "id": "PFjhEyPW9yPI"
      },
      "source": [
        "!pip install torchcam\n",
        "!pip install image-classification-helper==0.0.2"
      ],
      "execution_count": null,
      "outputs": []
    },
    {
      "cell_type": "code",
      "metadata": {
        "id": "3IEiqQk9DMz0"
      },
      "source": [
        "from sklearn.metrics import *\n",
        "from pathlib import Path\n",
        "from fastai.vision.all import *\n",
        "from image_classification_helper.core import *"
      ],
      "execution_count": null,
      "outputs": []
    },
    {
      "cell_type": "code",
      "metadata": {
        "id": "extraordinary-structure"
      },
      "source": [
        "!git clone https://github.com/wshuyi/big-cats-image-original.git"
      ],
      "execution_count": null,
      "outputs": []
    }
  ]
}